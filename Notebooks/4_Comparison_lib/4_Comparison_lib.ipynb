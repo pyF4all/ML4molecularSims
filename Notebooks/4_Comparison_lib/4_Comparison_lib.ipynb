{
  "cells": [
    {
      "cell_type": "markdown",
      "metadata": {
        "id": "T4ErHPO0cZX8"
      },
      "source": [
        "# Tutorial 4: Comparison between TensorFlow and PytorchGeometric on the SchNet Arquitecture"
      ]
    },
    {
      "cell_type": "markdown",
      "metadata": {},
      "source": [
        "## Pytorch Geometric "
      ]
    },
    {
      "cell_type": "code",
      "execution_count": null,
      "metadata": {
        "id": "YCyapXmUQnb0"
      },
      "outputs": [],
      "source": [
        "!pip install torch_geometric\n",
        "# Pyg cpu libraries\n",
        "!pip install pyg_lib torch_scatter torch_sparse torch_cluster torch_spline_conv -f https://data.pyg.org/whl/torch-2.3.0+cpu.html"
      ]
    },
    {
      "cell_type": "code",
      "execution_count": null,
      "metadata": {
        "id": "EhMTXg35UXKI"
      },
      "outputs": [],
      "source": [
        "import argparse\n",
        "import os.path as osp\n",
        "import numpy as np\n",
        "import torch\n",
        "from tqdm import tqdm\n",
        "from torch_geometric.datasets import QM9\n",
        "from torch_geometric.loader import DataLoader\n",
        "from torch_geometric.nn import SchNet\n",
        "import torch.nn as nn"
      ]
    },
    {
      "cell_type": "code",
      "execution_count": null,
      "metadata": {
        "colab": {
          "base_uri": "https://localhost:8080/"
        },
        "id": "dnbG7htbcZna",
        "outputId": "cd057621-a23e-42e0-acd6-a60e7b92b419"
      },
      "outputs": [
        {
          "name": "stdout",
          "output_type": "stream",
          "text": [
            "Dataset: QM9(130831):\n",
            "======================\n",
            "Number of graphs: 130831\n",
            "Number of features: 11\n",
            "Number of classes: 19\n"
          ]
        }
      ],
      "source": [
        "path = '/content/qm9/'\n",
        "dataset = QM9(path)\n",
        "\n",
        "print(f'Dataset: {dataset}:')\n",
        "print('======================')\n",
        "print(f'Number of graphs: {len(dataset)}')\n",
        "print(f'Number of features: {dataset.num_features}')\n",
        "print(f'Number of classes: {dataset.num_classes}')"
      ]
    },
    {
      "cell_type": "markdown",
      "metadata": {
        "id": "wxC2kIU2mJfy"
      },
      "source": [
        "De forma grafica se muestra una molecula del dataset, en este caso la que esta en el indice 121.\n",
        "\n"
      ]
    },
    {
      "cell_type": "code",
      "execution_count": null,
      "metadata": {
        "colab": {
          "base_uri": "https://localhost:8080/",
          "height": 388
        },
        "id": "2LFm93tRdWNN",
        "outputId": "a005cce7-2310-4bb7-b975-a99e931c7497"
      },
      "outputs": [
        {
          "data": {
            "image/png": "[encoded data removed]",
            "text/plain": [
              "<Figure size 400x400 with 1 Axes>"
            ]
          },
          "metadata": {},
          "output_type": "display_data"
        }
      ],
      "source": [
        "from torch_geometric.utils import to_networkx\n",
        "import networkx as nx\n",
        "import matplotlib.pyplot as plt\n",
        "import matplotlib as mpl\n",
        "atomic_symbols = {\n",
        "    1: 'H', 2: 'He', 3: 'Li', 4: 'Be', 5: 'B', 6: 'C', 7: 'N', 8: 'O', 9: 'F', 10: 'Ne',\n",
        "    11: 'Na', 12: 'Mg', 13: 'Al', 14: 'Si', 15: 'P', 16: 'S', 17: 'Cl', 18: 'Ar',\n",
        "    19: 'K', 20: 'Ca'\n",
        "}\n",
        "data = dataset[121]\n",
        "def visualize_graph(G, data, node_labels):\n",
        "    plt.figure(figsize=(4,4))\n",
        "    plt.xticks([])\n",
        "    plt.yticks([])\n",
        "    node_colors = data.x.numpy()[:, 5]\n",
        "\n",
        "    pos = nx.spring_layout(G, seed=42)\n",
        "    nodes = nx.draw_networkx_nodes(G, pos=nx.spring_layout(G, seed=42), node_color=node_colors)\n",
        "    nx.draw_networkx_edges(G, pos)\n",
        "    nx.draw_networkx_labels(G, pos, labels=node_labels, font_size=12, font_color='white')\n",
        "    plt.title(f\"Graph Name: {data.name}\\nG_true (eV): {np.round(data.y.numpy()[0,10], 2):.2f}\")\n",
        "    plt.show()\n",
        "\n",
        "# Convertir el gráfico a NetworkX\n",
        "G = to_networkx(data, to_undirected=True)\n",
        "# Crear etiquetas para los nodos (usando el número atómico en este caso)\n",
        "node_labels = {i: atomic_symbols.get(int(data.x[i, 5].item()), '?') for i in range(data.num_nodes)}\n",
        "\n",
        "visualize_graph(G, data, node_labels)"
      ]
    },
    {
      "cell_type": "code",
      "execution_count": null,
      "metadata": {
        "colab": {
          "base_uri": "https://localhost:8080/"
        },
        "id": "ewMp_etGSBkG",
        "outputId": "a545918f-7458-4846-b65e-9c9e94d8f10d"
      },
      "outputs": [
        {
          "name": "stdout",
          "output_type": "stream",
          "text": [
            "Epoch: 001, Train(MSE): 3.64e+09, Val(MSE): 1.72e+09\n",
            "Epoch: 002, Train(MSE): 1.21e+09, Val(MSE): 5.81e+08\n",
            "Epoch: 003, Train(MSE): 8.12e+08, Val(MSE): 6.57e+08\n",
            "Epoch: 004, Train(MSE): 1.52e+08, Val(MSE): 2.81e+08\n",
            "Epoch: 005, Train(MSE): 1.62e+08, Val(MSE): 1.44e+08\n",
            "Epoch: 006, Train(MSE): 1.71e+08, Val(MSE): 1.13e+08\n",
            "Epoch: 007, Train(MSE): 5.08e+07, Val(MSE): 9.48e+07\n",
            "Epoch: 008, Train(MSE): 3.62e+07, Val(MSE): 4.23e+07\n",
            "Epoch: 009, Train(MSE): 4.48e+07, Val(MSE): 2.82e+07\n",
            "Epoch: 010, Train(MSE): 3.61e+07, Val(MSE): 4.48e+07\n",
            "Epoch: 011, Train(MSE): 2.81e+07, Val(MSE): 1.32e+07\n",
            "Epoch: 012, Train(MSE): 1.95e+07, Val(MSE): 3.20e+07\n",
            "Epoch: 013, Train(MSE): 1.44e+07, Val(MSE): 1.39e+07\n",
            "Epoch: 014, Train(MSE): 1.44e+07, Val(MSE): 1.79e+07\n",
            "Epoch: 015, Train(MSE): 1.43e+07, Val(MSE): 2.10e+07\n",
            "Epoch: 016, Train(MSE): 1.23e+07, Val(MSE): 1.07e+07\n",
            "Epoch: 017, Train(MSE): 1.22e+07, Val(MSE): 8.53e+06\n",
            "Epoch: 018, Train(MSE): 1.24e+07, Val(MSE): 7.22e+06\n",
            "Epoch: 019, Train(MSE): 1.08e+07, Val(MSE): 8.51e+06\n",
            "Epoch: 020, Train(MSE): 7.83e+06, Val(MSE): 9.75e+06\n",
            "Epoch: 021, Train(MSE): 9.22e+06, Val(MSE): 7.68e+06\n",
            "Epoch: 022, Train(MSE): 9.13e+06, Val(MSE): 7.77e+06\n",
            "Epoch: 023, Train(MSE): 6.77e+06, Val(MSE): 6.36e+06\n",
            "Epoch: 024, Train(MSE): 7.93e+06, Val(MSE): 9.55e+06\n",
            "Epoch: 025, Train(MSE): 7.58e+06, Val(MSE): 5.76e+06\n",
            "Epoch: 026, Train(MSE): 6.66e+06, Val(MSE): 7.13e+06\n",
            "Epoch: 027, Train(MSE): 6.52e+06, Val(MSE): 3.45e+06\n",
            "Epoch: 028, Train(MSE): 7.12e+06, Val(MSE): 4.21e+06\n",
            "Epoch: 029, Train(MSE): 6.82e+06, Val(MSE): 4.83e+06\n",
            "Epoch: 030, Train(MSE): 5.34e+06, Val(MSE): 2.98e+06\n",
            "Epoch: 031, Train(MSE): 4.80e+06, Val(MSE): 3.78e+06\n",
            "Epoch: 032, Train(MSE): 5.23e+06, Val(MSE): 5.16e+06\n",
            "Epoch: 033, Train(MSE): 5.55e+06, Val(MSE): 3.80e+06\n",
            "Epoch: 034, Train(MSE): 4.23e+06, Val(MSE): 3.89e+06\n",
            "Epoch: 035, Train(MSE): 3.90e+06, Val(MSE): 3.04e+06\n",
            "Epoch: 036, Train(MSE): 4.35e+06, Val(MSE): 2.55e+06\n",
            "Epoch: 037, Train(MSE): 3.82e+06, Val(MSE): 2.61e+06\n",
            "Epoch: 038, Train(MSE): 2.88e+06, Val(MSE): 2.71e+06\n",
            "Epoch: 039, Train(MSE): 3.15e+06, Val(MSE): 2.17e+06\n",
            "Epoch: 040, Train(MSE): 3.35e+06, Val(MSE): 1.72e+06\n",
            "Epoch: 041, Train(MSE): 2.52e+06, Val(MSE): 1.31e+06\n",
            "Epoch: 042, Train(MSE): 2.41e+06, Val(MSE): 1.78e+06\n",
            "Epoch: 043, Train(MSE): 1.86e+06, Val(MSE): 1.48e+06\n",
            "Epoch: 044, Train(MSE): 2.56e+06, Val(MSE): 1.36e+06\n",
            "Epoch: 045, Train(MSE): 2.26e+06, Val(MSE): 1.24e+06\n",
            "Epoch: 046, Train(MSE): 2.59e+06, Val(MSE): 1.15e+06\n",
            "Epoch: 047, Train(MSE): 1.71e+06, Val(MSE): 1.22e+06\n",
            "Epoch: 048, Train(MSE): 2.36e+06, Val(MSE): 1.22e+06\n",
            "Epoch: 049, Train(MSE): 2.01e+06, Val(MSE): 1.36e+06\n",
            "Epoch: 050, Train(MSE): 1.82e+06, Val(MSE): 1.22e+06\n"
          ]
        }
      ],
      "source": [
        "path = '/content/qm9/'\n",
        "dataset = QM9(path)\n",
        "device = torch.device('cuda' if torch.cuda.is_available() else 'cpu')\n",
        "train_dataset, val_dataset, test_dataset = dataset[:3000], dataset[3000:4000], dataset[4000:5000]\n",
        "target_mean, target_std = train_dataset.mean(target=10), train_dataset.std(target=10)\n",
        "net = SchNet(\n",
        "            hidden_channels=64, #embedding layer\n",
        "            num_filters=64, #channels\n",
        "            num_interactions=3, #capas de interaccion\n",
        "            num_gaussians=300,\n",
        "            cutoff=30.0,\n",
        "            atomref=dataset.atomref(target=10),\n",
        "            mean = target_mean,\n",
        "            std = target_std\n",
        "        )\n",
        "dataset.to(device)\n",
        "model = net.to(device)\n",
        "optimizer = torch.optim.Adam(model.parameters(), lr=1e-3, weight_decay=5e-3)\n",
        "loss_mse = nn.MSELoss(reduction='mean')\n",
        "loss_mae = nn.L1Loss()\n",
        "\n",
        "train_loader = DataLoader(train_dataset, batch_size=500, shuffle=True) #before 100\n",
        "val_loader = DataLoader(val_dataset, batch_size=100, shuffle=True) #before 100\n",
        "\n",
        "def train(data):\n",
        "      model.train()\n",
        "      for idx, batch in enumerate(data):  # Iterate over each mini-batch.\n",
        "          out = model.forward(batch.z, batch.pos, batch.batch) # Perform a single forward pass.\n",
        "          loss = loss_mse(out, batch.y[:,10, np.newaxis])  # Compute the loss solely based on the training nodes.\n",
        "          loss2 = loss_mae(out, batch.y[:,10, np.newaxis])\n",
        "          loss.backward()  # Derive gradients.\n",
        "          optimizer.step()  # Update parameters based on gradients.\n",
        "          optimizer.zero_grad()  # Clear gradients.\n",
        "      return loss, loss2\n",
        "\n",
        "def test(data):\n",
        "      model.eval()\n",
        "      for idx, batch in enumerate(data):  # Iterate over each mini-batch.\n",
        "          out = model.forward(batch.z, batch.pos, batch.batch) # Perform a single forward pass.\n",
        "          loss = loss_mse(out, batch.y[:,10, np.newaxis])  # Compute the loss solely based on the training nodes.\n",
        "          loss2 = loss_mae(out, batch.y[:,10, np.newaxis])\n",
        "      return loss, loss2\n",
        "\n",
        "history = {}\n",
        "history['train_mse'] = []\n",
        "history['val_mse'] = []\n",
        "for epoch in range(1, 51):\n",
        "    loss_train, loss2_train = train(train_loader)\n",
        "    loss_val, loss2_val = test(val_loader)\n",
        "    history['train_mse'].append(loss_train)\n",
        "    history['val_mse'].append(loss_val)\n",
        "\n",
        "    print(f'Epoch: {epoch:03d}, Train(MSE): {loss_train:.2e}, Val(MSE): {loss_val:.2e}')"
      ]
    },
    {
      "cell_type": "code",
      "execution_count": null,
      "metadata": {
        "colab": {
          "base_uri": "https://localhost:8080/"
        },
        "id": "kHoSVB-F0_J1",
        "outputId": "213200ba-f602-402e-f943-0b1bce81ae9a"
      },
      "outputs": [
        {
          "name": "stdout",
          "output_type": "stream",
          "text": [
            " MAE (train) 925.78, MAE (val) 893.82\n"
          ]
        }
      ],
      "source": [
        "print(f' MAE (train) {loss2_train:.2f}, MAE (val) {loss2_val:.2f}')"
      ]
    },
    {
      "cell_type": "code",
      "execution_count": null,
      "metadata": {
        "colab": {
          "base_uri": "https://localhost:8080/"
        },
        "id": "1mPaz_nG1WPW",
        "outputId": "972bda27-36ff-47c8-c96e-521e6d150e69"
      },
      "outputs": [
        {
          "name": "stdout",
          "output_type": "stream",
          "text": [
            " MSE (test) 1.75e+06, MAE (test) 976.36\n"
          ]
        }
      ],
      "source": [
        "test_loader = DataLoader(test_dataset, batch_size=100, shuffle=True) #before 100\n",
        "loss_test, loss2_test = test(test_loader)\n",
        "print(f' MSE (test) {loss_test:.2e}, MAE (test) {loss2_test:.2f}')"
      ]
    },
    {
      "cell_type": "code",
      "execution_count": null,
      "metadata": {
        "colab": {
          "base_uri": "https://localhost:8080/",
          "height": 409
        },
        "id": "A-EgF_7ymaqu",
        "outputId": "dc353333-252b-4966-c1d8-7d74a476ff9a"
      },
      "outputs": [
        {
          "data": {
            "image/png": "[encoded data removed]",
            "text/plain": [
              "<Figure size 400x400 with 1 Axes>"
            ]
          },
          "metadata": {},
          "output_type": "display_data"
        }
      ],
      "source": [
        "##Testeo\n",
        "data = dataset[121]\n",
        "model.eval()\n",
        "# Convertir el gráfico a NetworkX\n",
        "G = to_networkx(data, to_undirected=True)\n",
        "# Crear etiquetas para los nodos (usando el número atómico en este caso)\n",
        "node_labels = {i: atomic_symbols.get(int(data.x[i, 5].item()), '?') for i in range(data.num_nodes)}\n",
        "# Crear etiquetas para los nodos (usando el número atómico en este caso)\n",
        "plt.figure(figsize=(4,4))\n",
        "plt.xticks([])\n",
        "plt.yticks([])\n",
        "node_colors = data.x.numpy()[:, 5]\n",
        "\n",
        "pos = nx.spring_layout(G, seed=42)\n",
        "nodes = nx.draw_networkx_nodes(G, pos=nx.spring_layout(G, seed=42), node_color=node_colors)\n",
        "nx.draw_networkx_edges(G, pos)\n",
        "nx.draw_networkx_labels(G, pos, labels=node_labels, font_size=12, font_color='white')\n",
        "plt.title(f\"Graph Name: {data.name}\\nG_True (eV): {np.round(data.y.numpy()[0,10], 2):.2f}\\nG_Predicted (eV): {np.round(model.forward(data.z, data.pos)[0][0].detach().numpy(), 2):.2f}\")\n",
        "plt.show()\n"
      ]
    },
    {
      "cell_type": "markdown",
      "metadata": {
        "id": "v36fTCnxQMyb"
      },
      "source": [
        "  Como es visible falta seguir un entrenamiento con mas datos dentro de la red, para asi lograr una red con mayor capacidad de generalizacion en el testeo"
      ]
    },
    {
      "cell_type": "markdown",
      "metadata": {},
      "source": [
        "## TensorFlow "
      ]
    },
    {
      "cell_type": "markdown",
      "metadata": {},
      "source": []
    }
  ],
  "metadata": {
    "celltoolbar": "Tags",
    "colab": {
      "provenance": []
    },
    "kernelspec": {
      "display_name": "Python 3",
      "name": "python3"
    },
    "language_info": {
      "codemirror_mode": {
        "name": "ipython",
        "version": 3
      },
      "file_extension": ".py",
      "mimetype": "text/x-python",
      "name": "python",
      "nbconvert_exporter": "python",
      "pygments_lexer": "ipython3",
      "version": "3.7.8"
    },
    "vscode": {
      "interpreter": {
        "hash": "3e5a039a7a113538395a7d74f5574b0c5900118222149a18efb009bf03645fce"
      }
    }
  },
  "nbformat": 4,
  "nbformat_minor": 0
}
